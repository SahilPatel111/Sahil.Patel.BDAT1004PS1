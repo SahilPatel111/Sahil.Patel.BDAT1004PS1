{
 "cells": [
  {
   "cell_type": "markdown",
   "id": "80c343ed",
   "metadata": {},
   "source": [
    "# Q:6"
   ]
  },
  {
   "cell_type": "code",
   "execution_count": 2,
   "id": "de8ad8f3",
   "metadata": {},
   "outputs": [
    {
     "name": "stdout",
     "output_type": "stream",
     "text": [
      "Enter the word :Sahil\n",
      "Out put of the entered word is : ahilsay\n"
     ]
    }
   ],
   "source": [
    "word=input(\"Enter the word :\")\n",
    "def pig(word):\n",
    "    vowels = \"aeiou\"\n",
    "    word = word.lower()\n",
    "    if word[0] in vowels:\n",
    "        return word + \"way\"\n",
    "    else:\n",
    "        return word[1:] + word[0] + \"ay\"\n",
    "print(\"Out put of the entered word is : \" +pig(word))"
   ]
  },
  {
   "cell_type": "markdown",
   "id": "317060fe",
   "metadata": {},
   "source": [
    "# Q:7"
   ]
  },
  {
   "cell_type": "code",
   "execution_count": 5,
   "id": "e6906b2c",
   "metadata": {},
   "outputs": [
    {
     "name": "stdout",
     "output_type": "stream",
     "text": [
      "The Output is:\n",
      "There are 15 patients of blood type A.\n",
      "There is one patient of blood type B.\n",
      "There are 13 patients of blood type AB.\n",
      "There are 15 patients of blood type O.\n",
      "There are no patients of blood type OO.\n"
     ]
    }
   ],
   "source": [
    "def bloodcount():\n",
    "    open_files=open('bloodtype1.txt','r')\n",
    "    info = open_files.read()\n",
    "    result = info.split()\n",
    "    blood_counts = {'A': result.count(\"A\"), \n",
    "                    'B': result.count(\"B\"), \n",
    "                    'AB': result.count(\"AB\"), \n",
    "                    'O': result.count(\"O\"),\n",
    "                    'OO': result.count(\"OO\")}\n",
    "        \n",
    "    for blood_type, count in blood_counts.items():\n",
    "        if count == 0:\n",
    "            print(f'There are no patients of blood type {blood_type}.')\n",
    "        elif count == 1:\n",
    "            print(f'There is one patient of blood type {blood_type}.')\n",
    "        else:\n",
    "            print(f'There are {count} patients of blood type {blood_type}.')\n",
    "            \n",
    "print(\"The Output is:\")\n",
    "bloodcount()\n"
   ]
  },
  {
   "cell_type": "markdown",
   "id": "5bb7ca51",
   "metadata": {},
   "source": [
    "# Q:8"
   ]
  },
  {
   "cell_type": "code",
   "execution_count": 2,
   "id": "03d8a662",
   "metadata": {},
   "outputs": [
    {
     "name": "stdout",
     "output_type": "stream",
     "text": [
      "Enter the country code: jpy\n",
      "Enter the amount you want to convert: 100000\n",
      "100000 Japanese Yen = 1241.401 U.S. Dollar\n"
     ]
    }
   ],
   "source": [
    "def curconv( CountryCode, Amount):\n",
    "    file = open('currencies.txt','r') # Open File in read mode\n",
    "    fileData = file.read()\n",
    "    file.close() # Close file\n",
    "    finalData = fileData.split('\\n')\n",
    "    finalList = []\n",
    "    for c in finalData:\n",
    "        finalList.append(c.split('\\t'))\n",
    "    for ex in finalList:\n",
    "        if ( CountryCode.upper() in ex ):\n",
    "            ConvertAmount = Amount * float(ex[1]) # Convert Amount\n",
    "            print(str(Amount) + ' ' + ex[2] + ' = '+ str(ConvertAmount) +' U.S. Dollar')\n",
    "    \n",
    "CountryCode = str(input('Enter the country code: '))\n",
    "Amount = int(input('Enter the amount you want to convert: '))\n",
    "# Call the function\n",
    "curconv(CountryCode,Amount)"
   ]
  },
  {
   "cell_type": "markdown",
   "id": "97dceba5",
   "metadata": {},
   "source": [
    "# Q:9"
   ]
  },
  {
   "cell_type": "code",
   "execution_count": 7,
   "id": "a3d7a1d6",
   "metadata": {},
   "outputs": [
    {
     "ename": "SyntaxError",
     "evalue": "invalid character '‘' (U+2018) (3576037723.py, line 1)",
     "output_type": "error",
     "traceback": [
      "\u001b[1;36m  File \u001b[1;32m\"C:\\Program Files\\KMSpico\\temp\\ipykernel_6496\\3576037723.py\"\u001b[1;36m, line \u001b[1;32m1\u001b[0m\n\u001b[1;33m    p =  6 + ‘a’;\u001b[0m\n\u001b[1;37m             ^\u001b[0m\n\u001b[1;31mSyntaxError\u001b[0m\u001b[1;31m:\u001b[0m invalid character '‘' (U+2018)\n"
     ]
    }
   ],
   "source": [
    "p =  6 + ‘a’;\n",
    "print(p)"
   ]
  },
  {
   "cell_type": "code",
   "execution_count": 8,
   "id": "864804bb",
   "metadata": {},
   "outputs": [
    {
     "ename": "IndexError",
     "evalue": "list index out of range",
     "output_type": "error",
     "traceback": [
      "\u001b[1;31m---------------------------------------------------------------------------\u001b[0m",
      "\u001b[1;31mIndexError\u001b[0m                                Traceback (most recent call last)",
      "\u001b[1;32mC:\\Program Files\\KMSpico\\temp\\ipykernel_6496\\256800562.py\u001b[0m in \u001b[0;36m<module>\u001b[1;34m\u001b[0m\n\u001b[0;32m      1\u001b[0m \u001b[0mq\u001b[0m \u001b[1;33m=\u001b[0m \u001b[1;33m[\u001b[0m\u001b[1;36m1\u001b[0m\u001b[1;33m,\u001b[0m\u001b[1;36m2\u001b[0m\u001b[1;33m,\u001b[0m\u001b[1;36m3\u001b[0m\u001b[1;33m,\u001b[0m\u001b[1;36m4\u001b[0m\u001b[1;33m,\u001b[0m\u001b[1;36m5\u001b[0m\u001b[1;33m,\u001b[0m\u001b[1;36m6\u001b[0m\u001b[1;33m,\u001b[0m\u001b[1;36m7\u001b[0m\u001b[1;33m,\u001b[0m\u001b[1;36m8\u001b[0m\u001b[1;33m,\u001b[0m\u001b[1;36m9\u001b[0m\u001b[1;33m,\u001b[0m\u001b[1;36m10\u001b[0m\u001b[1;33m]\u001b[0m\u001b[1;33m;\u001b[0m\u001b[1;33m\u001b[0m\u001b[1;33m\u001b[0m\u001b[0m\n\u001b[1;32m----> 2\u001b[1;33m \u001b[0mprint\u001b[0m\u001b[1;33m(\u001b[0m\u001b[0mq\u001b[0m\u001b[1;33m[\u001b[0m\u001b[1;36m12\u001b[0m\u001b[1;33m]\u001b[0m\u001b[1;33m)\u001b[0m\u001b[1;33m\u001b[0m\u001b[1;33m\u001b[0m\u001b[0m\n\u001b[0m",
      "\u001b[1;31mIndexError\u001b[0m: list index out of range"
     ]
    }
   ],
   "source": [
    "q = [1,2,3,4,5,6,7,8,9,10];\n",
    "print(q[12])\n"
   ]
  },
  {
   "cell_type": "code",
   "execution_count": 9,
   "id": "d3096d10",
   "metadata": {},
   "outputs": [
    {
     "ename": "ValueError",
     "evalue": "math domain error",
     "output_type": "error",
     "traceback": [
      "\u001b[1;31m---------------------------------------------------------------------------\u001b[0m",
      "\u001b[1;31mValueError\u001b[0m                                Traceback (most recent call last)",
      "\u001b[1;32mC:\\Program Files\\KMSpico\\temp\\ipykernel_6496\\3755102649.py\u001b[0m in \u001b[0;36m<module>\u001b[1;34m\u001b[0m\n\u001b[0;32m      1\u001b[0m \u001b[1;32mimport\u001b[0m \u001b[0mmath\u001b[0m\u001b[1;33m\u001b[0m\u001b[1;33m\u001b[0m\u001b[0m\n\u001b[1;32m----> 2\u001b[1;33m \u001b[0mprint\u001b[0m\u001b[1;33m(\u001b[0m\u001b[0mmath\u001b[0m\u001b[1;33m.\u001b[0m\u001b[0msqrt\u001b[0m\u001b[1;33m(\u001b[0m\u001b[1;33m-\u001b[0m\u001b[1;36m1.0\u001b[0m\u001b[1;33m)\u001b[0m\u001b[1;33m)\u001b[0m\u001b[1;33m\u001b[0m\u001b[1;33m\u001b[0m\u001b[0m\n\u001b[0m",
      "\u001b[1;31mValueError\u001b[0m: math domain error"
     ]
    }
   ],
   "source": [
    "import math\n",
    "print(math.sqrt(-1.0))"
   ]
  },
  {
   "cell_type": "code",
   "execution_count": 10,
   "id": "5699f3d0",
   "metadata": {},
   "outputs": [
    {
     "ename": "NameError",
     "evalue": "name 'x' is not defined",
     "output_type": "error",
     "traceback": [
      "\u001b[1;31m---------------------------------------------------------------------------\u001b[0m",
      "\u001b[1;31mNameError\u001b[0m                                 Traceback (most recent call last)",
      "\u001b[1;32mC:\\Program Files\\KMSpico\\temp\\ipykernel_6496\\1353120783.py\u001b[0m in \u001b[0;36m<module>\u001b[1;34m\u001b[0m\n\u001b[1;32m----> 1\u001b[1;33m \u001b[0mprint\u001b[0m\u001b[1;33m(\u001b[0m\u001b[0mx\u001b[0m\u001b[1;33m)\u001b[0m\u001b[1;33m\u001b[0m\u001b[1;33m\u001b[0m\u001b[0m\n\u001b[0m",
      "\u001b[1;31mNameError\u001b[0m: name 'x' is not defined"
     ]
    }
   ],
   "source": [
    "print(x)"
   ]
  },
  {
   "cell_type": "code",
   "execution_count": 11,
   "id": "709c69dc",
   "metadata": {},
   "outputs": [
    {
     "ename": "FileNotFoundError",
     "evalue": "[Errno 2] No such file or directory: 'sahil.txt'",
     "output_type": "error",
     "traceback": [
      "\u001b[1;31m---------------------------------------------------------------------------\u001b[0m",
      "\u001b[1;31mFileNotFoundError\u001b[0m                         Traceback (most recent call last)",
      "\u001b[1;32mC:\\Program Files\\KMSpico\\temp\\ipykernel_6496\\1105784708.py\u001b[0m in \u001b[0;36m<module>\u001b[1;34m\u001b[0m\n\u001b[1;32m----> 1\u001b[1;33m \u001b[0mfile\u001b[0m \u001b[1;33m=\u001b[0m \u001b[0mopen\u001b[0m\u001b[1;33m(\u001b[0m\u001b[1;34m'sahil.txt'\u001b[0m\u001b[1;33m)\u001b[0m\u001b[1;33m\u001b[0m\u001b[1;33m\u001b[0m\u001b[0m\n\u001b[0m\u001b[0;32m      2\u001b[0m \u001b[0mdata\u001b[0m \u001b[1;33m=\u001b[0m \u001b[0mfile\u001b[0m\u001b[1;33m.\u001b[0m\u001b[0mread\u001b[0m\u001b[1;33m(\u001b[0m\u001b[1;33m)\u001b[0m\u001b[1;33m\u001b[0m\u001b[1;33m\u001b[0m\u001b[0m\n",
      "\u001b[1;31mFileNotFoundError\u001b[0m: [Errno 2] No such file or directory: 'sahil.txt'"
     ]
    }
   ],
   "source": [
    "file = open('sahil.txt')\n",
    "data = file.read()"
   ]
  },
  {
   "cell_type": "markdown",
   "id": "644bd93d",
   "metadata": {},
   "source": [
    "# Q:10"
   ]
  },
  {
   "cell_type": "code",
   "execution_count": 7,
   "id": "d64231c1",
   "metadata": {},
   "outputs": [
    {
     "name": "stdout",
     "output_type": "stream",
     "text": [
      "Enter the sentence that you want to know the each character how many time it has been written: Sahil Bhadreshbhai Patel\n",
      "4 2 0 1 2 0 0 4 2 0 0 2 0 0 0 1 0 1 2 1 0 0 0 0 0 0 "
     ]
    }
   ],
   "source": [
    "Code= input(\"Enter the sentence that you want to know the each character how many time it has been written: \")\n",
    "\n",
    "\n",
    "S= ['a','b','c','d','e','f','g','h','i','j','k','l','m','n','o','p','q','r','s','t','u','v','w','x','y','z']\n",
    "  \n",
    "for i in S:\n",
    "    print(Code.lower().count(i),end=\" \")"
   ]
  },
  {
   "cell_type": "code",
   "execution_count": null,
   "id": "4365a44e",
   "metadata": {},
   "outputs": [],
   "source": []
  }
 ],
 "metadata": {
  "kernelspec": {
   "display_name": "Python 3 (ipykernel)",
   "language": "python",
   "name": "python3"
  },
  "language_info": {
   "codemirror_mode": {
    "name": "ipython",
    "version": 3
   },
   "file_extension": ".py",
   "mimetype": "text/x-python",
   "name": "python",
   "nbconvert_exporter": "python",
   "pygments_lexer": "ipython3",
   "version": "3.9.13"
  }
 },
 "nbformat": 4,
 "nbformat_minor": 5
}
