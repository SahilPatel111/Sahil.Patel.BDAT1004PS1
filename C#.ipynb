{
 "cells": [
  {
   "cell_type": "markdown",
   "id": "d79185c2",
   "metadata": {},
   "source": [
    "# Q1\n",
    "\n"
   ]
  },
  {
   "cell_type": "code",
   "execution_count": 12,
   "id": "e61984a7",
   "metadata": {},
   "outputs": [
    {
     "name": "stdout",
     "output_type": "stream",
     "text": [
      "System.Int32\n",
      "System.Double\n",
      "System.Boolean\n",
      "System.Char\n",
      "System.Int32\n",
      "System.Int32\n",
      "System.Int32\n",
      "System.Int32\n",
      "System.Int32\n",
      "System.Object[]\n",
      "System.Boolean\n",
      "System.String\n"
     ]
    }
   ],
   "source": [
    "dynamic a = 5 ;\n",
    "dynamic b = 5.0;\n",
    "dynamic c = 5 > 1 ;\n",
    "dynamic d = '5' ;\n",
    "dynamic e = 5 * 2 ;\n",
    "dynamic f = '5' * 2 ;\n",
    "dynamic g = '5' + '2' ;\n",
    "dynamic h = 5 / 2 ;\n",
    "dynamic i = 5 % 2 ;\n",
    "dynamic [] j = {5, 2, 1};\n",
    "dynamic k = 5 == 3 ;\n",
    "dynamic l = \"PI (the number)\" ;\n",
    "\n",
    "Console.WriteLine(a.GetType());\n",
    "Console.WriteLine(b.GetType());\n",
    "Console.WriteLine(c.GetType());\n",
    "Console.WriteLine(d.GetType());\n",
    "Console.WriteLine(e.GetType());\n",
    "Console.WriteLine(f.GetType());\n",
    "Console.WriteLine(g.GetType());\n",
    "Console.WriteLine(h.GetType());\n",
    "Console.WriteLine(i.GetType());\n",
    "Console.WriteLine(j.GetType());\n",
    "Console.WriteLine(k.GetType());\n",
    "Console.WriteLine(l.GetType());\n"
   ]
  },
  {
   "cell_type": "markdown",
   "id": "3100fce2",
   "metadata": {},
   "source": [
    "# Q2 \n"
   ]
  },
  {
   "cell_type": "markdown",
   "id": "8c8abe29",
   "metadata": {},
   "source": [
    "# a"
   ]
  },
  {
   "cell_type": "code",
   "execution_count": 5,
   "id": "7de9961c",
   "metadata": {},
   "outputs": [
    {
     "name": "stdout",
     "output_type": "stream",
     "text": [
      "The number of characters in Supercalifragilisticexpialidocious is 34\r\n"
     ]
    }
   ],
   "source": [
    "int character_count = 0;\n",
    "string input = \"Supercalifragilisticexpialidocious\";\n",
    "\n",
    "foreach (char c in input)\n",
    "{\n",
    "    character_count++;\n",
    "}\n",
    "\n",
    "Console.WriteLine(\"The number of characters in \" + input + \" is \" + character_count);"
   ]
  },
  {
   "cell_type": "markdown",
   "id": "cd3587ee",
   "metadata": {},
   "source": [
    "# b "
   ]
  },
  {
   "cell_type": "code",
   "execution_count": 6,
   "id": "5bb3374c",
   "metadata": {},
   "outputs": [
    {
     "name": "stdout",
     "output_type": "stream",
     "text": [
      "The output of this question is:\n",
      "ice is a substring of Supercalifragilisticexpialidocious\n"
     ]
    }
   ],
   "source": [
    "string A = \"Supercalifragilisticexpialidocious\";\n",
    "string B = \"ice\";\n",
    "if (A.Contains(B))\n",
    "{\n",
    "    Console.WriteLine(\"The output of this question is:\");\n",
    "    Console.WriteLine(B + \" is a substring of \" + A);\n",
    "}\n",
    "\n"
   ]
  },
  {
   "cell_type": "markdown",
   "id": "84b39ac5",
   "metadata": {},
   "source": [
    "# c"
   ]
  },
  {
   "cell_type": "code",
   "execution_count": 2,
   "id": "ec9c0b5a",
   "metadata": {},
   "outputs": [
    {
     "name": "stdout",
     "output_type": "stream",
     "text": [
      "Longest word(s) with length 34 is Supercalifragilisticexpialidocious, Bababadalgharaghtakamminarronnkonn, "
     ]
    }
   ],
   "source": [
    "string[] words = { \"Supercalifragilisticexpialidocious\", \"Honorificabilitudinitatibus\", \"Bababadalgharaghtakamminarronnkonn\" };\n",
    "\n",
    "int maxLength = words.Max(x => x.Length);\n",
    "List<string> longestWords = words.Where(x => x.Length == maxLength).ToList();\n",
    "\n",
    "Console.Write(\"Longest word(s) with length \" + maxLength + \" is \");\n",
    "foreach (string lw in longestWords)\n",
    "{\n",
    "    Console.Write(lw + \", \");\n",
    "}\n"
   ]
  },
  {
   "cell_type": "markdown",
   "id": "bea69323",
   "metadata": {},
   "source": [
    "# d\n"
   ]
  },
  {
   "cell_type": "code",
   "execution_count": 9,
   "id": "6b55442f",
   "metadata": {},
   "outputs": [
    {
     "name": "stdout",
     "output_type": "stream",
     "text": [
      "First composer in the dictionary: Bartok\r\n"
     ]
    }
   ],
   "source": [
    "string[] composers = { \"Berlioz\", \"Borodin\", \"Brian\", \"Bartok\", \"Bellini\", \"Buxtehude\", \"Bernstein\" };\n",
    "\n",
    "Array.Sort(composers);\n",
    "\n",
    "Console.WriteLine(\"First composer in the dictionary: \" + composers[0]);"
   ]
  },
  {
   "cell_type": "markdown",
   "id": "a1ba033f",
   "metadata": {},
   "source": [
    "# Q3"
   ]
  },
  {
   "cell_type": "code",
   "execution_count": 7,
   "id": "dfa92374",
   "metadata": {},
   "outputs": [
    {
     "name": "stdout",
     "output_type": "stream",
     "text": [
      "Area of triangle is : 17.320508075688775\r\n"
     ]
    }
   ],
   "source": [
    "public void TriangularArea(int X, int Y,int Z)\n",
    "    {\n",
    "        int A = (X+Y+Z)/2;\n",
    "        int Area = A*(A-X)*(A-Y)*(A-Z);\n",
    "        Console.WriteLine(\"Area of triangle is : \"+Math.Sqrt(Area));\n",
    "    }\n",
    "TriangularArea( 5, 7, 8)"
   ]
  },
  {
   "cell_type": "markdown",
   "id": "2ccaf33c",
   "metadata": {},
   "source": [
    "# Q4"
   ]
  },
  {
   "cell_type": "code",
   "execution_count": null,
   "id": "210106de",
   "metadata": {},
   "outputs": [],
   "source": [
    "Console.Write(\"Enter the lenght of the array\");\n",
    "            int len = Convert.ToInt32(Console.ReadLine());\n",
    "\n",
    "            int[] inputArray = new int[len];\n",
    "            for(int i = 0; i<len; i++){\n",
    "                inputArray[i] = Convert.ToInt32(Console.ReadLine());\n",
    "            }\n",
    "            List<int> oddlist = new List<int>();\n",
    "            List<int> evenlist = new List<int>();\n",
    "\n",
    "            foreach (int number in inputArray)\n",
    "            {\n",
    "                if (number % 2 == 0)\n",
    "                {\n",
    "                    evenlist.Add(number);\n",
    "                }\n",
    "                else\n",
    "                {\n",
    "                    oddlist.Add(number);\n",
    "                }\n",
    "            }\n",
    "\n",
    "            Console.WriteLine(\"Input Array: \" + string.Join(\", \", inputArray));\n",
    "            Console.Write(\"Odd List\");\n",
    "            oddlist.ForEach(o => Console.Write(\" \" + o));\n",
    "            Console.WriteLine(\"\");\n",
    "            Console.Write(\"Even List\");\n",
    "            evenlist.ForEach(e => Console.Write(\" \" + e));"
   ]
  },
  {
   "cell_type": "markdown",
   "id": "12c39d1a",
   "metadata": {},
   "source": [
    "![Output.png](Output.png)\n"
   ]
  },
  {
   "cell_type": "markdown",
   "id": "27b71e11",
   "metadata": {},
   "source": [
    "# Q5"
   ]
  },
  {
   "cell_type": "markdown",
   "id": "26b37f90",
   "metadata": {},
   "source": [
    "# a"
   ]
  },
  {
   "cell_type": "code",
   "execution_count": 8,
   "id": "d6a90070",
   "metadata": {},
   "outputs": [
    {
     "name": "stdout",
     "output_type": "stream",
     "text": [
      "Inside: \n",
      "\n",
      "inside(1,1,0,0,2,3):True\n",
      "inside(-1,-1,0,0,2,3):False\n",
      "\n"
     ]
    }
   ],
   "source": [
    "public static bool inside(double A, double B, double A1, double B1, double A2, double B2)\n",
    "{\n",
    "    if (A > A1 && A < A2 && B > B1 && B < B2)\n",
    "    {\n",
    "        return true;\n",
    "    }\n",
    "    return false;\n",
    "}\n",
    "\n",
    "Console.WriteLine(\"Inside: \\n\");\n",
    "Console.WriteLine($\"inside(1,1,0,0,2,3):{inside(1,2,-6,-4,4,6)}\");\n",
    "Console.WriteLine($\"inside(-1,-1,0,0,2,3):{inside(-1,-7,-6,-4,4,6)}\\n\");"
   ]
  },
  {
   "cell_type": "markdown",
   "id": "e0acd24e",
   "metadata": {},
   "source": [
    "# b"
   ]
  },
  {
   "cell_type": "code",
   "execution_count": 10,
   "id": "ffa1259f",
   "metadata": {},
   "outputs": [
    {
     "name": "stdout",
     "output_type": "stream",
     "text": [
      "The point (1,1) doesn't lie in both of the following rectangles\n",
      "\n",
      "inside(1,1,0.3,0.5,1.1,0.7):False\n",
      "inside(1,1,0.5,0.2,1.1,2):True\n"
     ]
    }
   ],
   "source": [
    "if(inside(1,1,0.3,0.5,1.1,0.7) && inside(1,1,0.5,0.2,1.1,2)){\n",
    "    Console.WriteLine(\"the point (1,1) lies in both of the following rectangles\");\n",
    "}\n",
    "else{\n",
    "    Console.WriteLine(\"The point (1,1) doesn't lie in both of the following rectangles\");\n",
    "}\n",
    "Console.WriteLine($\"\\ninside(1,1,0.3,0.5,1.1,0.7):{inside(1,1,0.3,0.5,1.1,0.7)}\");\n",
    "Console.WriteLine($\"inside(1,1,0.5,0.2,1.1,2):{inside(1,1,0.5,0.2,1.1,2)}\");"
   ]
  },
  {
   "cell_type": "code",
   "execution_count": null,
   "id": "39c54f0c",
   "metadata": {},
   "outputs": [],
   "source": []
  }
 ],
 "metadata": {
  "kernelspec": {
   "display_name": ".NET (C#)",
   "language": "C#",
   "name": ".net-csharp"
  },
  "language_info": {
   "file_extension": ".cs",
   "mimetype": "text/x-csharp",
   "name": "C#",
   "pygments_lexer": "csharp",
   "version": "11.0"
  }
 },
 "nbformat": 4,
 "nbformat_minor": 5
}
